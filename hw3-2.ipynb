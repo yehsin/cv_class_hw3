{
 "cells": [
  {
   "cell_type": "code",
   "execution_count": 44,
   "id": "49f05354",
   "metadata": {},
   "outputs": [],
   "source": [
    "import cv2\n",
    "import random\n",
    "import numpy as np\n",
    "import copy\n",
    "random.seed(72)"
   ]
  },
  {
   "cell_type": "code",
   "execution_count": 45,
   "id": "8ec78dc7",
   "metadata": {},
   "outputs": [
    {
     "name": "stdout",
     "output_type": "stream",
     "text": [
      "(360, 640, 3)\n"
     ]
    }
   ],
   "source": [
    "photos = cv2.imread('2-image.jpg')\n",
    "print(photos.shape)"
   ]
  },
  {
   "cell_type": "code",
   "execution_count": 46,
   "id": "c4b336fb",
   "metadata": {},
   "outputs": [
    {
     "name": "stdout",
     "output_type": "stream",
     "text": [
      "[[37, 608], [95, 352], [357, 557]]\n"
     ]
    }
   ],
   "source": [
    "clusters = []\n",
    "for i in range(3):\n",
    "    x, y = random.randrange(photos.shape[0]), random.randrange(photos.shape[1])\n",
    "    ci = photos[x,y,:]\n",
    "    clusters.append([x,y])\n",
    "print(clusters)"
   ]
  },
  {
   "cell_type": "code",
   "execution_count": 47,
   "id": "01bc3be6",
   "metadata": {},
   "outputs": [],
   "source": [
    "def cal_k_mean(clusters):\n",
    "\n",
    "    clusters_pts = []\n",
    "    for i in range(len(clusters)):\n",
    "        clusters_pts.append([clusters[i]])\n",
    "\n",
    "    for i in range(photos.shape[0]):\n",
    "        for j in range(photos.shape[1]):\n",
    "            min_distance = 1e+20\n",
    "            c = 0\n",
    "            for cluster_idx in range(len(clusters)):\n",
    "                distance = photos[i,j] - photos[clusters[cluster_idx][0], clusters[cluster_idx][1]]\n",
    "                distance = np.linalg.norm(distance, ord=2)\n",
    "                if distance < min_distance :\n",
    "                    min_distance = distance\n",
    "                    c = cluster_idx\n",
    "            clusters_pts[c].append([i,j])\n",
    "    return clusters_pts"
   ]
  },
  {
   "cell_type": "code",
   "execution_count": 48,
   "id": "ac132614",
   "metadata": {},
   "outputs": [],
   "source": [
    "def cal_mean(clusters):\n",
    "    new_clusters = []\n",
    "    for i in range(len(clusters)):\n",
    "        x, y = np.floor(np.mean(clusters_pts[i], axis=0))\n",
    "        new_clusters.append([x,y])\n",
    "    return new_clusters"
   ]
  },
  {
   "cell_type": "code",
   "execution_count": 60,
   "id": "2002b74f",
   "metadata": {},
   "outputs": [
    {
     "name": "stdout",
     "output_type": "stream",
     "text": [
      "[[61, 324], [194, 244], [227, 324]]\n",
      "new: [[237.0, 315.0], [72.0, 329.0], [83.0, 317.0]]\n",
      "[[237, 315], [72, 329], [83, 317]]\n",
      "new: [[87.0, 324.0], [243.0, 315.0], [80.0, 329.0]]\n",
      "[[87, 324], [243, 315], [80, 329]]\n",
      "new: [[88.0, 339.0], [92.0, 324.0], [245.0, 315.0]]\n",
      "[[88, 339], [92, 324], [245, 315]]\n",
      "new: [[247.0, 315.0], [91.0, 338.0], [95.0, 324.0]]\n",
      "[[247, 315], [91, 338], [95, 324]]\n",
      "new: [[97.0, 323.0], [247.0, 315.0], [91.0, 338.0]]\n",
      "[[97, 323], [247, 315], [91, 338]]\n",
      "new: [[99.0, 340.0], [97.0, 323.0], [247.0, 315.0]]\n",
      "[[99, 340], [97, 323], [247, 315]]\n",
      "new: [[90.0, 336.0], [247.0, 315.0], [97.0, 323.0]]\n",
      "[[90, 336], [247, 315], [97, 323]]\n",
      "new: [[247.0, 315.0], [97.0, 323.0], [98.0, 341.0]]\n",
      "[[247, 315], [97, 323], [98, 341]]\n",
      "new: [[97.0, 323.0], [247.0, 315.0], [89.0, 336.0]]\n",
      "[[97, 323], [247, 315], [89, 336]]\n",
      "new: [[98.0, 341.0], [97.0, 323.0], [247.0, 315.0]]\n",
      "[[98, 341], [97, 323], [247, 315]]\n",
      "new: [[90.0, 336.0], [247.0, 315.0], [97.0, 323.0]]\n",
      "[[90, 336], [247, 315], [97, 323]]\n",
      "new: [[247.0, 315.0], [97.0, 323.0], [98.0, 341.0]]\n",
      "[[247, 315], [97, 323], [98, 341]]\n",
      "new: [[97.0, 323.0], [247.0, 315.0], [89.0, 336.0]]\n",
      "[[97, 323], [247, 315], [89, 336]]\n",
      "new: [[98.0, 341.0], [97.0, 323.0], [247.0, 315.0]]\n",
      "[[98, 341], [97, 323], [247, 315]]\n",
      "new: [[90.0, 336.0], [247.0, 315.0], [97.0, 323.0]]\n",
      "[[90, 336], [247, 315], [97, 323]]\n",
      "new: [[247.0, 315.0], [97.0, 323.0], [98.0, 341.0]]\n",
      "[[247, 315], [97, 323], [98, 341]]\n",
      "new: [[97.0, 323.0], [247.0, 315.0], [89.0, 336.0]]\n",
      "[[97, 323], [247, 315], [89, 336]]\n",
      "new: [[98.0, 341.0], [97.0, 323.0], [247.0, 315.0]]\n",
      "[[98, 341], [97, 323], [247, 315]]\n",
      "new: [[90.0, 336.0], [247.0, 315.0], [97.0, 323.0]]\n",
      "[[90, 336], [247, 315], [97, 323]]\n",
      "new: [[247.0, 315.0], [97.0, 323.0], [98.0, 341.0]]\n",
      "[[247, 315], [97, 323], [98, 341]]\n",
      "new: [[97.0, 323.0], [247.0, 315.0], [89.0, 336.0]]\n",
      "[[97, 323], [247, 315], [89, 336]]\n",
      "new: [[98.0, 341.0], [97.0, 323.0], [247.0, 315.0]]\n",
      "[[98, 341], [97, 323], [247, 315]]\n",
      "new: [[90.0, 336.0], [247.0, 315.0], [97.0, 323.0]]\n",
      "[[90, 336], [247, 315], [97, 323]]\n",
      "new: [[247.0, 315.0], [97.0, 323.0], [98.0, 341.0]]\n",
      "[[247, 315], [97, 323], [98, 341]]\n",
      "new: [[97.0, 323.0], [247.0, 315.0], [89.0, 336.0]]\n",
      "[[97, 323], [247, 315], [89, 336]]\n",
      "new: [[98.0, 341.0], [97.0, 323.0], [247.0, 315.0]]\n",
      "[[98, 341], [97, 323], [247, 315]]\n",
      "new: [[90.0, 336.0], [247.0, 315.0], [97.0, 323.0]]\n",
      "[[90, 336], [247, 315], [97, 323]]\n",
      "new: [[247.0, 315.0], [97.0, 323.0], [98.0, 341.0]]\n",
      "[[247, 315], [97, 323], [98, 341]]\n",
      "new: [[97.0, 323.0], [247.0, 315.0], [89.0, 336.0]]\n",
      "[[97, 323], [247, 315], [89, 336]]\n",
      "new: [[98.0, 341.0], [97.0, 323.0], [247.0, 315.0]]\n",
      "[[98, 341], [97, 323], [247, 315]]\n",
      "new: [[90.0, 336.0], [247.0, 315.0], [97.0, 323.0]]\n",
      "[[90, 336], [247, 315], [97, 323]]\n",
      "new: [[247.0, 315.0], [97.0, 323.0], [98.0, 341.0]]\n",
      "[[247, 315], [97, 323], [98, 341]]\n",
      "new: [[97.0, 323.0], [247.0, 315.0], [89.0, 336.0]]\n",
      "[[97, 323], [247, 315], [89, 336]]\n",
      "new: [[98.0, 341.0], [97.0, 323.0], [247.0, 315.0]]\n",
      "[[98, 341], [97, 323], [247, 315]]\n",
      "new: [[90.0, 336.0], [247.0, 315.0], [97.0, 323.0]]\n",
      "[[90, 336], [247, 315], [97, 323]]\n",
      "new: [[247.0, 315.0], [97.0, 323.0], [98.0, 341.0]]\n",
      "[[247, 315], [97, 323], [98, 341]]\n",
      "new: [[97.0, 323.0], [247.0, 315.0], [89.0, 336.0]]\n",
      "[[97, 323], [247, 315], [89, 336]]\n",
      "new: [[98.0, 341.0], [97.0, 323.0], [247.0, 315.0]]\n",
      "[[98, 341], [97, 323], [247, 315]]\n",
      "new: [[90.0, 336.0], [247.0, 315.0], [97.0, 323.0]]\n",
      "[[90, 336], [247, 315], [97, 323]]\n",
      "new: [[247.0, 315.0], [97.0, 323.0], [98.0, 341.0]]\n",
      "[[247, 315], [97, 323], [98, 341]]\n",
      "new: [[97.0, 323.0], [247.0, 315.0], [89.0, 336.0]]\n",
      "[[97, 323], [247, 315], [89, 336]]\n",
      "new: [[98.0, 341.0], [97.0, 323.0], [247.0, 315.0]]\n",
      "[[98, 341], [97, 323], [247, 315]]\n",
      "new: [[90.0, 336.0], [247.0, 315.0], [97.0, 323.0]]\n",
      "[[90, 336], [247, 315], [97, 323]]\n",
      "new: [[247.0, 315.0], [97.0, 323.0], [98.0, 341.0]]\n",
      "[[247, 315], [97, 323], [98, 341]]\n",
      "new: [[97.0, 323.0], [247.0, 315.0], [89.0, 336.0]]\n",
      "[[97, 323], [247, 315], [89, 336]]\n",
      "new: [[98.0, 341.0], [97.0, 323.0], [247.0, 315.0]]\n",
      "[[98, 341], [97, 323], [247, 315]]\n",
      "new: [[90.0, 336.0], [247.0, 315.0], [97.0, 323.0]]\n",
      "[[90, 336], [247, 315], [97, 323]]\n",
      "new: [[247.0, 315.0], [97.0, 323.0], [98.0, 341.0]]\n",
      "[[247, 315], [97, 323], [98, 341]]\n",
      "new: [[97.0, 323.0], [247.0, 315.0], [89.0, 336.0]]\n",
      "[[97, 323], [247, 315], [89, 336]]\n",
      "new: [[98.0, 341.0], [97.0, 323.0], [247.0, 315.0]]\n",
      "[[98, 341], [97, 323], [247, 315]]\n",
      "new: [[90.0, 336.0], [247.0, 315.0], [97.0, 323.0]]\n",
      "[[90, 336], [247, 315], [97, 323]]\n",
      "new: [[247.0, 315.0], [97.0, 323.0], [98.0, 341.0]]\n",
      "[[247, 315], [97, 323], [98, 341]]\n",
      "new: [[97.0, 323.0], [247.0, 315.0], [89.0, 336.0]]\n",
      "[[97, 323], [247, 315], [89, 336]]\n",
      "new: [[98.0, 341.0], [97.0, 323.0], [247.0, 315.0]]\n",
      "[[98, 341], [97, 323], [247, 315]]\n",
      "new: [[90.0, 336.0], [247.0, 315.0], [97.0, 323.0]]\n",
      "[[90, 336], [247, 315], [97, 323]]\n",
      "new: [[247.0, 315.0], [97.0, 323.0], [98.0, 341.0]]\n",
      "[[247, 315], [97, 323], [98, 341]]\n",
      "new: [[97.0, 323.0], [247.0, 315.0], [89.0, 336.0]]\n",
      "[[97, 323], [247, 315], [89, 336]]\n",
      "new: [[98.0, 341.0], [97.0, 323.0], [247.0, 315.0]]\n",
      "[[98, 341], [97, 323], [247, 315]]\n"
     ]
    },
    {
     "ename": "KeyboardInterrupt",
     "evalue": "",
     "output_type": "error",
     "traceback": [
      "\u001b[1;31m---------------------------------------------------------------------------\u001b[0m",
      "\u001b[1;31mKeyboardInterrupt\u001b[0m                         Traceback (most recent call last)",
      "Input \u001b[1;32mIn [60]\u001b[0m, in \u001b[0;36m<cell line: 10>\u001b[1;34m()\u001b[0m\n\u001b[0;32m     11\u001b[0m repeat \u001b[38;5;241m=\u001b[39m \u001b[38;5;28;01mFalse\u001b[39;00m\n\u001b[0;32m     12\u001b[0m ori \u001b[38;5;241m=\u001b[39m copy\u001b[38;5;241m.\u001b[39mdeepcopy(new_clusters)\n\u001b[1;32m---> 13\u001b[0m clusters_pts \u001b[38;5;241m=\u001b[39m \u001b[43mcal_k_mean\u001b[49m\u001b[43m(\u001b[49m\u001b[43mnew_clusters\u001b[49m\u001b[43m)\u001b[49m\n\u001b[0;32m     14\u001b[0m new_clusters \u001b[38;5;241m=\u001b[39m cal_mean(clusters_pts)\n\u001b[0;32m     15\u001b[0m \u001b[38;5;28mprint\u001b[39m(\u001b[38;5;124m'\u001b[39m\u001b[38;5;124mnew:\u001b[39m\u001b[38;5;124m'\u001b[39m,new_clusters)\n",
      "Input \u001b[1;32mIn [47]\u001b[0m, in \u001b[0;36mcal_k_mean\u001b[1;34m(clusters)\u001b[0m\n\u001b[0;32m     11\u001b[0m \u001b[38;5;28;01mfor\u001b[39;00m cluster_idx \u001b[38;5;129;01min\u001b[39;00m \u001b[38;5;28mrange\u001b[39m(\u001b[38;5;28mlen\u001b[39m(clusters)):\n\u001b[0;32m     12\u001b[0m     distance \u001b[38;5;241m=\u001b[39m photos[i,j] \u001b[38;5;241m-\u001b[39m photos[clusters[cluster_idx][\u001b[38;5;241m0\u001b[39m], clusters[cluster_idx][\u001b[38;5;241m1\u001b[39m]]\n\u001b[1;32m---> 13\u001b[0m     distance \u001b[38;5;241m=\u001b[39m \u001b[43mnp\u001b[49m\u001b[38;5;241;43m.\u001b[39;49m\u001b[43mlinalg\u001b[49m\u001b[38;5;241;43m.\u001b[39;49m\u001b[43mnorm\u001b[49m\u001b[43m(\u001b[49m\u001b[43mdistance\u001b[49m\u001b[43m,\u001b[49m\u001b[43m \u001b[49m\u001b[38;5;28;43mord\u001b[39;49m\u001b[38;5;241;43m=\u001b[39;49m\u001b[38;5;241;43m2\u001b[39;49m\u001b[43m)\u001b[49m\n\u001b[0;32m     14\u001b[0m     \u001b[38;5;28;01mif\u001b[39;00m distance \u001b[38;5;241m<\u001b[39m min_distance :\n\u001b[0;32m     15\u001b[0m         min_distance \u001b[38;5;241m=\u001b[39m distance\n",
      "File \u001b[1;32m<__array_function__ internals>:5\u001b[0m, in \u001b[0;36mnorm\u001b[1;34m(*args, **kwargs)\u001b[0m\n",
      "File \u001b[1;32m~\\Anaconda3\\lib\\site-packages\\numpy\\linalg\\linalg.py:2530\u001b[0m, in \u001b[0;36mnorm\u001b[1;34m(x, ord, axis, keepdims)\u001b[0m\n\u001b[0;32m   2528\u001b[0m     sqnorm \u001b[38;5;241m=\u001b[39m dot(x\u001b[38;5;241m.\u001b[39mreal, x\u001b[38;5;241m.\u001b[39mreal) \u001b[38;5;241m+\u001b[39m dot(x\u001b[38;5;241m.\u001b[39mimag, x\u001b[38;5;241m.\u001b[39mimag)\n\u001b[0;32m   2529\u001b[0m \u001b[38;5;28;01melse\u001b[39;00m:\n\u001b[1;32m-> 2530\u001b[0m     sqnorm \u001b[38;5;241m=\u001b[39m \u001b[43mdot\u001b[49m\u001b[43m(\u001b[49m\u001b[43mx\u001b[49m\u001b[43m,\u001b[49m\u001b[43m \u001b[49m\u001b[43mx\u001b[49m\u001b[43m)\u001b[49m\n\u001b[0;32m   2531\u001b[0m ret \u001b[38;5;241m=\u001b[39m sqrt(sqnorm)\n\u001b[0;32m   2532\u001b[0m \u001b[38;5;28;01mif\u001b[39;00m keepdims:\n",
      "File \u001b[1;32m<__array_function__ internals>:5\u001b[0m, in \u001b[0;36mdot\u001b[1;34m(*args, **kwargs)\u001b[0m\n",
      "\u001b[1;31mKeyboardInterrupt\u001b[0m: "
     ]
    }
   ],
   "source": [
    "repeat = True\n",
    "clusters_pts = cal_k_mean(clusters)\n",
    "new_clusters = cal_mean(clusters_pts)\n",
    "for i in range(len(new_clusters)):\n",
    "    new_clusters[i][0], new_clusters[i][1] = int(new_clusters[i][0]), int(new_clusters[i][1])\n",
    "print(new_clusters)\n",
    "\n",
    "\n",
    "\n",
    "while(repeat):\n",
    "    repeat = False\n",
    "    ori = copy.deepcopy(new_clusters)\n",
    "    clusters_pts = cal_k_mean(new_clusters)\n",
    "    new_clusters = cal_mean(clusters_pts)\n",
    "    print('new:',new_clusters)\n",
    "    for j in range(len(new_clusters)):\n",
    "        if ((new_clusters[j][0] - ori[j][0])>1e-6 or (new_clusters[j][1] - ori[j][1])>1e-6):\n",
    "            repeat = True\n",
    "        new_clusters[j][0], new_clusters[j][1] = int(new_clusters[j][0]), int(new_clusters[j][1])\n",
    "    print(new_clusters)\n"
   ]
  },
  {
   "cell_type": "code",
   "execution_count": null,
   "id": "435c186d",
   "metadata": {},
   "outputs": [],
   "source": []
  },
  {
   "cell_type": "code",
   "execution_count": null,
   "id": "c4e9e522",
   "metadata": {},
   "outputs": [],
   "source": []
  }
 ],
 "metadata": {
  "kernelspec": {
   "display_name": "Python 3 (ipykernel)",
   "language": "python",
   "name": "python3"
  },
  "language_info": {
   "codemirror_mode": {
    "name": "ipython",
    "version": 3
   },
   "file_extension": ".py",
   "mimetype": "text/x-python",
   "name": "python",
   "nbconvert_exporter": "python",
   "pygments_lexer": "ipython3",
   "version": "3.9.12"
  }
 },
 "nbformat": 4,
 "nbformat_minor": 5
}
