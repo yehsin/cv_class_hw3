{
 "cells": [
  {
   "cell_type": "code",
   "execution_count": 7,
   "id": "49f05354",
   "metadata": {},
   "outputs": [],
   "source": [
    "import cv2\n",
    "import random\n",
    "import numpy as np\n",
    "import copy\n",
    "random.seed(72)"
   ]
  },
  {
   "cell_type": "code",
   "execution_count": 61,
   "id": "8ec78dc7",
   "metadata": {},
   "outputs": [
    {
     "name": "stdout",
     "output_type": "stream",
     "text": [
      "(360, 640, 3)\n"
     ]
    }
   ],
   "source": [
    "photos = cv2.imread('2-image.jpg')\n",
    "print(photos.shape)"
   ]
  },
  {
   "cell_type": "code",
   "execution_count": 62,
   "id": "c4b336fb",
   "metadata": {},
   "outputs": [
    {
     "name": "stdout",
     "output_type": "stream",
     "text": [
      "[[233, 13], [228, 70], [151, 93]]\n"
     ]
    }
   ],
   "source": [
    "initial_clusters_pos = []\n",
    "for i in range(3):\n",
    "    x, y = random.randrange(photos.shape[0]), random.randrange(photos.shape[1])\n",
    "    ci = photos[x,y,:]\n",
    "    initial_clusters_pos.append([x,y])\n",
    "print(initial_clusters_pos)"
   ]
  },
  {
   "cell_type": "code",
   "execution_count": 80,
   "id": "01bc3be6",
   "metadata": {},
   "outputs": [],
   "source": [
    "def cal_k_mean(clusters_rgb, clusters_pos):\n",
    "\n",
    "    clusters_pts = [[], [], []]\n",
    "#     for i in range(len(clusters_pos)):\n",
    "#         clusters_pts.append([clusters_pos[i]])\n",
    "    for i in range(photos.shape[0]):\n",
    "        for j in range(photos.shape[1]):\n",
    "            min_distance = 1e+20\n",
    "            c = 0\n",
    "            for cluster_idx in range(len(clusters)):\n",
    "                distance = photos[i,j] - photos[clusters[cluster_idx], clusters[cluster_idx]]\n",
    "                distance = np.linalg.norm(distance, ord=2)\n",
    "                if distance < min_distance :\n",
    "                    min_distance = distance\n",
    "                    c = cluster_idx\n",
    "            clusters_pts[c].append([i,j])\n",
    "    return clusters_pts"
   ]
  },
  {
   "cell_type": "code",
   "execution_count": 81,
   "id": "ac132614",
   "metadata": {},
   "outputs": [],
   "source": [
    "def cal_mean(clusters_pts):\n",
    "    new_clusters = []\n",
    "    clusters_rgb = []\n",
    "    for i in range(len(clusters_pts)):\n",
    "        center_x, center_y = np.mean(clusters_pts[i], axis=0)\n",
    "        new_clusters.append([center_x, center_y])\n",
    "        \n",
    "        r_all, g_all, b_all = 0, 0, 0\n",
    "        \n",
    "        for j in range(len(clusters_pts[i])):\n",
    "#             print(clusters_pts[i][j])\n",
    "            r_all+= photos[clusters_pts[i][j][0], clusters_pts[i][j][1]][0]\n",
    "            g_all+= photos[clusters_pts[i][j][0], clusters_pts[i][j][1]][1]\n",
    "            b_all+= photos[clusters_pts[i][j][0], clusters_pts[i][j][1]][2]\n",
    "        \n",
    "        center_r = np.mean(r_all)\n",
    "        center_g = np.mean(g_all)\n",
    "        center_b = np.mean(b_all)\n",
    "            \n",
    "        clusters_rgb.append([center_r, center_g, center_b])\n",
    "    \n",
    "    return new_clusters, clusters_rgb"
   ]
  },
  {
   "cell_type": "code",
   "execution_count": 82,
   "id": "2002b74f",
   "metadata": {},
   "outputs": [
    {
     "name": "stdout",
     "output_type": "stream",
     "text": [
      "[array([216, 111,  22], dtype=uint8), array([216, 111,  22], dtype=uint8), array([216, 111,  22], dtype=uint8)]\n",
      "[0, 1]\n"
     ]
    },
    {
     "name": "stderr",
     "output_type": "stream",
     "text": [
      "C:\\Users\\sin\\Anaconda3\\lib\\site-packages\\numpy\\core\\fromnumeric.py:3440: RuntimeWarning: Mean of empty slice.\n",
      "  return _methods._mean(a, axis=axis, dtype=dtype,\n",
      "C:\\Users\\sin\\Anaconda3\\lib\\site-packages\\numpy\\core\\_methods.py:189: RuntimeWarning: invalid value encountered in double_scalars\n",
      "  ret = ret.dtype.type(ret / rcount)\n"
     ]
    },
    {
     "ename": "TypeError",
     "evalue": "cannot unpack non-iterable numpy.float64 object",
     "output_type": "error",
     "traceback": [
      "\u001b[1;31m---------------------------------------------------------------------------\u001b[0m",
      "\u001b[1;31mTypeError\u001b[0m                                 Traceback (most recent call last)",
      "Input \u001b[1;32mIn [82]\u001b[0m, in \u001b[0;36m<cell line: 8>\u001b[1;34m()\u001b[0m\n\u001b[0;32m      6\u001b[0m clusters_pts \u001b[38;5;241m=\u001b[39m cal_k_mean(clusters, initial_clusters_pos)\n\u001b[0;32m      7\u001b[0m \u001b[38;5;28mprint\u001b[39m(clusters_pts[\u001b[38;5;241m0\u001b[39m][\u001b[38;5;241m1\u001b[39m])\n\u001b[1;32m----> 8\u001b[0m new_clusters, clusters_rgb \u001b[38;5;241m=\u001b[39m \u001b[43mcal_mean\u001b[49m\u001b[43m(\u001b[49m\u001b[43mclusters_pts\u001b[49m\u001b[43m)\u001b[49m\n\u001b[0;32m      9\u001b[0m \u001b[38;5;66;03m# for i in range(len(new_clusters)):\u001b[39;00m\n\u001b[0;32m     10\u001b[0m \u001b[38;5;66;03m#     new_clusters[i][0], new_clusters[i][1] = int(new_clusters[i][0]), int(new_clusters[i][1])\u001b[39;00m\n\u001b[0;32m     11\u001b[0m \u001b[38;5;66;03m# print(new_clusters)\u001b[39;00m\n\u001b[0;32m     15\u001b[0m \u001b[38;5;28;01mwhile\u001b[39;00m(repeat):\n",
      "Input \u001b[1;32mIn [81]\u001b[0m, in \u001b[0;36mcal_mean\u001b[1;34m(clusters_pts)\u001b[0m\n\u001b[0;32m      3\u001b[0m clusters_rgb \u001b[38;5;241m=\u001b[39m []\n\u001b[0;32m      4\u001b[0m \u001b[38;5;28;01mfor\u001b[39;00m i \u001b[38;5;129;01min\u001b[39;00m \u001b[38;5;28mrange\u001b[39m(\u001b[38;5;28mlen\u001b[39m(clusters_pts)):\n\u001b[1;32m----> 5\u001b[0m     center_x, center_y \u001b[38;5;241m=\u001b[39m np\u001b[38;5;241m.\u001b[39mmean(clusters_pts[i], axis\u001b[38;5;241m=\u001b[39m\u001b[38;5;241m0\u001b[39m)\n\u001b[0;32m      6\u001b[0m     new_clusters\u001b[38;5;241m.\u001b[39mappend([center_x, center_y])\n\u001b[0;32m      8\u001b[0m     r_all, g_all, b_all \u001b[38;5;241m=\u001b[39m \u001b[38;5;241m0\u001b[39m, \u001b[38;5;241m0\u001b[39m, \u001b[38;5;241m0\u001b[39m\n",
      "\u001b[1;31mTypeError\u001b[0m: cannot unpack non-iterable numpy.float64 object"
     ]
    }
   ],
   "source": [
    "repeat = True\n",
    "clusters = []\n",
    "for pos in initial_clusters_pos:\n",
    "    clusters.append(photos[pos[0], pos[1]])\n",
    "print(clusters)\n",
    "clusters_pts = cal_k_mean(clusters, initial_clusters_pos)\n",
    "print(clusters_pts[0][1])\n",
    "new_clusters, clusters_rgb = cal_mean(clusters_pts)\n",
    "# for i in range(len(new_clusters)):\n",
    "#     new_clusters[i][0], new_clusters[i][1] = int(new_clusters[i][0]), int(new_clusters[i][1])\n",
    "# print(new_clusters)\n",
    "\n",
    "\n",
    "\n",
    "while(repeat):\n",
    "    repeat = False\n",
    "    ori = copy.deepcopy(new_clusters)\n",
    "    clusters_pts = cal_k_mean(clusters_rgb, new_clusters)\n",
    "    new_clusters, clusters_rgb = cal_mean(clusters_pts)\n",
    "    print('new:',new_clusters)\n",
    "    for j in range(len(new_clusters)):\n",
    "        if ((new_clusters[j][0] - ori[j][0])>1e-6 or (new_clusters[j][1] - ori[j][1])>1e-6):\n",
    "            repeat = True\n",
    "        new_clusters[j][0], new_clusters[j][1] = int(new_clusters[j][0]), int(new_clusters[j][1])\n",
    "    print(new_clusters)\n"
   ]
  },
  {
   "cell_type": "code",
   "execution_count": null,
   "id": "435c186d",
   "metadata": {},
   "outputs": [],
   "source": [
    "for i in range(len(clusters_pts)):\n",
    "    for pos in (clusters_pts[i]):\n",
    "        photos[pos[0], pos[1]] = clusters_rgb[i]"
   ]
  },
  {
   "cell_type": "code",
   "execution_count": null,
   "id": "c4e9e522",
   "metadata": {},
   "outputs": [],
   "source": [
    "cv2.imwrite('i.jpg', photos)"
   ]
  },
  {
   "cell_type": "code",
   "execution_count": null,
   "id": "8815cedc",
   "metadata": {},
   "outputs": [],
   "source": []
  }
 ],
 "metadata": {
  "kernelspec": {
   "display_name": "Python 3 (ipykernel)",
   "language": "python",
   "name": "python3"
  },
  "language_info": {
   "codemirror_mode": {
    "name": "ipython",
    "version": 3
   },
   "file_extension": ".py",
   "mimetype": "text/x-python",
   "name": "python",
   "nbconvert_exporter": "python",
   "pygments_lexer": "ipython3",
   "version": "3.9.12"
  }
 },
 "nbformat": 4,
 "nbformat_minor": 5
}
