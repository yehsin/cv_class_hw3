{
 "cells": [
  {
   "cell_type": "code",
   "execution_count": 25,
   "id": "49f05354",
   "metadata": {},
   "outputs": [],
   "source": [
    "import cv2\n",
    "import random\n",
    "import numpy as np\n",
    "import copy\n",
    "random.seed(72)"
   ]
  },
  {
   "cell_type": "code",
   "execution_count": 100,
   "id": "8ec78dc7",
   "metadata": {},
   "outputs": [
    {
     "name": "stdout",
     "output_type": "stream",
     "text": [
      "(360, 640, 3)\n"
     ]
    }
   ],
   "source": [
    "photos = cv2.imread('2-image.jpg')\n",
    "print(photos.shape)"
   ]
  },
  {
   "cell_type": "code",
   "execution_count": 101,
   "id": "c4b336fb",
   "metadata": {},
   "outputs": [
    {
     "name": "stdout",
     "output_type": "stream",
     "text": [
      "[[228, 70], [151, 93], [258, 325]]\n"
     ]
    }
   ],
   "source": [
    "initial_clusters_pos = []\n",
    "for i in range(3):\n",
    "    x, y = random.randrange(photos.shape[0]), random.randrange(photos.shape[1])\n",
    "    ci = photos[x,y,:]\n",
    "    initial_clusters_pos.append([x,y])\n",
    "print(initial_clusters_pos)"
   ]
  },
  {
   "cell_type": "code",
   "execution_count": 102,
   "id": "01bc3be6",
   "metadata": {},
   "outputs": [],
   "source": [
    "def cal_k_mean(clusters_rgb, clusters_pos):\n",
    "    #print(clusters_rgb)\n",
    "    clusters_pts = [[], [], []]\n",
    "#     for i in range(len(clusters_pos)):\n",
    "#         clusters_pts.append([clusters_pos[i]])\n",
    "    for i in range(photos.shape[0]):\n",
    "        for j in range(photos.shape[1]):\n",
    "            c = 0\n",
    "            distance = []\n",
    "            distance.append(np.linalg.norm(photos[i,j] - clusters_rgb[0], ord=2))\n",
    "            distance.append(np.linalg.norm(photos[i,j] - clusters_rgb[1], ord=2))\n",
    "            distance.append(np.linalg.norm(photos[i,j] - clusters_rgb[2], ord=2))\n",
    "\n",
    "            c = np.argmin(distance)\n",
    "            clusters_pts[c].append([i,j])\n",
    "    return clusters_pts"
   ]
  },
  {
   "cell_type": "code",
   "execution_count": 103,
   "id": "ac132614",
   "metadata": {},
   "outputs": [],
   "source": [
    "def cal_mean(clusters_pts):\n",
    "    new_clusters = []\n",
    "    clusters_rgb = []\n",
    "    for i in range(len(clusters_pts)):\n",
    "        #print(len(clusters_pts[i]))\n",
    "        center_x, center_y = np.mean(clusters_pts[i], axis=0)\n",
    "        new_clusters.append([center_x, center_y])\n",
    "        \n",
    "        r_all, g_all, b_all = 0, 0, 0\n",
    "        \n",
    "        for j in range(len(clusters_pts[i])):\n",
    "#             print(clusters_pts[i][j])\n",
    "            r_all+= photos[clusters_pts[i][j][0], clusters_pts[i][j][1]][0]\n",
    "            g_all+= photos[clusters_pts[i][j][0], clusters_pts[i][j][1]][1]\n",
    "            b_all+= photos[clusters_pts[i][j][0], clusters_pts[i][j][1]][2]\n",
    "        \n",
    "        center_r = r_all / len(clusters_pts[i])\n",
    "        center_g = g_all / len(clusters_pts[i])\n",
    "        center_b = b_all / len(clusters_pts[i])\n",
    "            \n",
    "        clusters_rgb.append([center_r, center_g, center_b])\n",
    "    \n",
    "    return new_clusters, clusters_rgb"
   ]
  },
  {
   "cell_type": "code",
   "execution_count": 104,
   "id": "2002b74f",
   "metadata": {},
   "outputs": [],
   "source": [
    "def k_means():\n",
    "    repeat = True\n",
    "\n",
    "    # mean 顏色\n",
    "    clusters = []\n",
    "    for pos in initial_clusters_pos:\n",
    "        clusters.append(photos[pos[0], pos[1]])\n",
    "    print(clusters)\n",
    "\n",
    "    # 同一群pts\n",
    "    clusters_pts = cal_k_mean(clusters, initial_clusters_pos)\n",
    "\n",
    "    # 新的mean 位置和顏色\n",
    "    new_clusters_pos, clusters_rgb = cal_mean(clusters_pts)\n",
    "\n",
    "    while(repeat):\n",
    "        repeat = False\n",
    "        ori = copy.deepcopy(new_clusters_pos)\n",
    "        clusters_pts = cal_k_mean(clusters_rgb, new_clusters_pos)\n",
    "        new_clusters_pos, clusters_rgb = cal_mean(clusters_pts)\n",
    "        for j in range(len(new_clusters_pos)):\n",
    "            if ((new_clusters_pos[j][0] - ori[j][0])>1e-6 or (new_clusters_pos[j][1] - ori[j][1])>1e-6):\n",
    "                repeat = True\n",
    "        print(new_clusters_pos)\n",
    "        \n",
    "    for i in range(len(clusters_pts)):\n",
    "        for pos in (clusters_pts[i]):\n",
    "            photos[pos[0], pos[1]] = clusters_rgb[i]\n",
    "    cv2.imwrite('i.jpg', photos)\n"
   ]
  },
  {
   "cell_type": "code",
   "execution_count": 105,
   "id": "435c186d",
   "metadata": {},
   "outputs": [
    {
     "name": "stdout",
     "output_type": "stream",
     "text": [
      "[array([ 94,  99, 100], dtype=uint8), array([84, 77, 68], dtype=uint8), array([115, 113, 119], dtype=uint8)]\n",
      "[[194.07579155081174, 312.8368463539331], [260.9685118634172, 317.91478674035375], [102.10224984599542, 322.31390270588344]]\n",
      "[[204.3327996694727, 318.3389626263148], [267.9615087134121, 314.16140961496626], [81.66771618377715, 325.1851504493943]]\n",
      "[[203.9592764321884, 318.8337349765115], [269.1362739642875, 313.0212833223734], [78.15058302238806, 325.9831389925373]]\n",
      "[[203.81121225213414, 318.76440266376653], [269.36444399060554, 312.7577606453589], [77.39385162422144, 326.30053100679356]]\n",
      "[[203.6395176362396, 318.88335459372865], [269.4173404350436, 312.7207597297263], [77.1614221109681, 326.2578196030275]]\n",
      "[[203.6027510968813, 318.80379165184394], [269.40175207835824, 312.7316204170764], [77.1000602630304, 326.3177634144324]]\n",
      "[[203.58219330359128, 318.8293586684255], [269.3781551228854, 312.7741972550271], [77.08991088102499, 326.26129352528187]]\n",
      "[[203.57282589365107, 318.8205584207718], [269.3781551228854, 312.7741972550271], [77.08691592099197, 326.2689275286942]]\n",
      "[[203.5733886501704, 318.8376944732553], [269.3781551228854, 312.7741972550271], [77.06553171366082, 326.2564875568954]]\n",
      "[[203.5722625574159, 318.84381389835534], [269.37477498180704, 312.7678322928237], [77.06501306409089, 326.2578177647991]]\n",
      "[[203.57105602394464, 318.8501237238661], [269.37118600791524, 312.7626835184476], [77.06397417859803, 326.2579420910134]]\n",
      "[[203.57379089615932, 318.8546408250356], [269.3679896847991, 312.75886941313144], [77.06397417859803, 326.2579420910134]]\n",
      "[[203.57379089615932, 318.8546408250356], [269.3679896847991, 312.75886941313144], [77.06397417859803, 326.2579420910134]]\n"
     ]
    }
   ],
   "source": [
    "k_means()"
   ]
  },
  {
   "cell_type": "code",
   "execution_count": 94,
   "id": "c4e9e522",
   "metadata": {},
   "outputs": [
    {
     "data": {
      "text/plain": [
       "True"
      ]
     },
     "execution_count": 94,
     "metadata": {},
     "output_type": "execute_result"
    }
   ],
   "source": []
  },
  {
   "cell_type": "code",
   "execution_count": 128,
   "id": "8815cedc",
   "metadata": {},
   "outputs": [],
   "source": [
    "def k_means_plus():\n",
    "    initial_clusters_pos = []\n",
    "    x, y = random.randrange(photos.shape[0]), random.randrange(photos.shape[1])\n",
    "    initial_clusters_pos.append([x,y])\n",
    "    \n",
    "    distance = []\n",
    "    position = []\n",
    "    for i in range(photos.shape[0]):\n",
    "        for j in range(photos.shape[1]):\n",
    "            d = np.linalg.norm((photos[i,j] - photos[x,y]), ord=2)\n",
    "            distance.append(d)\n",
    "            position.append([i,j])\n",
    "    unique = np.unique(distance)\n",
    "    second_d = np.sort(unique)[-2]\n",
    "    \n",
    "    idx1 = np.argsort(distance)[-1]\n",
    "    idx2 = distance.index(second_d)\n",
    "    \n",
    "    #print(pos[idx1],pos[idx2])\n",
    "    \n",
    "    initial_clusters_pos = [[x,y], position[idx1], position[idx2]]\n",
    "    print(initial_clusters_pos)\n",
    "    \n",
    "    repeat = True\n",
    "\n",
    "    # mean 顏色\n",
    "    clusters = []\n",
    "    for pos in initial_clusters_pos:\n",
    "        clusters.append(photos[pos[0], pos[1]])\n",
    "    print(clusters)\n",
    "\n",
    "    # 同一群pts\n",
    "    clusters_pts = cal_k_mean(clusters, initial_clusters_pos)\n",
    "\n",
    "    # 新的mean 位置和顏色\n",
    "    new_clusters_pos, clusters_rgb = cal_mean(clusters_pts)\n",
    "\n",
    "    while(repeat):\n",
    "        repeat = False\n",
    "        ori = copy.deepcopy(new_clusters_pos)\n",
    "        clusters_pts = cal_k_mean(clusters_rgb, new_clusters_pos)\n",
    "        new_clusters_pos, clusters_rgb = cal_mean(clusters_pts)\n",
    "        for j in range(len(new_clusters_pos)):\n",
    "            if ((new_clusters_pos[j][0] - ori[j][0])>1e-6 or (new_clusters_pos[j][1] - ori[j][1])>1e-6):\n",
    "                repeat = True\n",
    "        print(new_clusters_pos)\n",
    "    \n",
    "    for i in range(len(clusters_pts)):\n",
    "        for pos in (clusters_pts[i]):\n",
    "            photos[pos[0], pos[1]] = clusters_rgb[i]\n",
    "\n",
    "    cv2.imwrite('2.jpg', photos)"
   ]
  },
  {
   "cell_type": "code",
   "execution_count": 129,
   "id": "913e8756",
   "metadata": {},
   "outputs": [
    {
     "name": "stdout",
     "output_type": "stream",
     "text": [
      "[[28, 337], [190, 0], [0, 4]]\n",
      "[array([178, 191, 207], dtype=uint8), array([106, 114, 130], dtype=uint8), array([54, 47, 37], dtype=uint8)]\n",
      "[[77.06397417859803, 326.2579420910134], [203.57379089615932, 318.8546408250356], [269.3679896847991, 312.75886941313144]]\n"
     ]
    }
   ],
   "source": [
    "k_means_plus()"
   ]
  },
  {
   "cell_type": "code",
   "execution_count": null,
   "id": "9dfd4f6d",
   "metadata": {},
   "outputs": [],
   "source": []
  }
 ],
 "metadata": {
  "kernelspec": {
   "display_name": "Python 3 (ipykernel)",
   "language": "python",
   "name": "python3"
  },
  "language_info": {
   "codemirror_mode": {
    "name": "ipython",
    "version": 3
   },
   "file_extension": ".py",
   "mimetype": "text/x-python",
   "name": "python",
   "nbconvert_exporter": "python",
   "pygments_lexer": "ipython3",
   "version": "3.8.13"
  }
 },
 "nbformat": 4,
 "nbformat_minor": 5
}
