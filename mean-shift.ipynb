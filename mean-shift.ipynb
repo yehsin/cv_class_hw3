{
 "cells": [
  {
   "cell_type": "code",
   "execution_count": 73,
   "id": "1d1ee461",
   "metadata": {},
   "outputs": [],
   "source": [
    "import numpy as np\n",
    "import sklearn.cluster\n",
    "import cv2\n",
    "import matplotlib.pyplot as plt\n",
    "from PIL import Image\n",
    "from sklearn.cluster import estimate_bandwidth\n",
    "import math"
   ]
  },
  {
   "cell_type": "code",
   "execution_count": 103,
   "id": "705aeecc",
   "metadata": {},
   "outputs": [],
   "source": [
    "def gaussian_kernel(distance, bandwidth):\n",
    "    euclidean_distance = np.sqrt(((distance)**2))\n",
    "    val = (1/(bandwidth*math.sqrt(2*math.pi))) * np.exp(-0.5*((euclidean_distance / bandwidth))**2)\n",
    "    return val\n",
    "\n",
    "def multivariate_gaussian_kernel(distances, bandwidths):\n",
    "\n",
    "    # Number of dimensions of the multivariate gaussian\n",
    "    dim = len(bandwidths)\n",
    "\n",
    "    # Covariance matrix\n",
    "    cov = np.multiply(np.power(bandwidths, 2), np.eye(dim))\n",
    "\n",
    "    # Compute Multivariate gaussian (vectorized implementation)\n",
    "    exponent = -0.5 * np.sum(np.multiply(np.dot(distances, np.linalg.inv(cov)), distances), axis=1)\n",
    "    val = (1 / np.power((2 * math.pi), (dim/2)) * np.power(np.linalg.det(cov), 0.5)) * np.exp(exponent)\n",
    "\n",
    "    return val"
   ]
  },
  {
   "cell_type": "code",
   "execution_count": 104,
   "id": "563e46d7",
   "metadata": {},
   "outputs": [],
   "source": [
    "MIN_DISTANCE = 0.000001\n",
    "\n",
    "\n",
    "class mean_shift():\n",
    "    \"\"\" \n",
    "    拿出5維feature\n",
    "    分別計算顏色和位置距離\n",
    "    進入kernel, bandwidth決定cluster\n",
    "    對同群 cluster 進行color\n",
    "    \"\"\"\n",
    "    \n",
    "    def __init__(self, kernel, img):\n",
    "        self.kernel = kernel\n",
    "        self.img = img\n",
    "        self.bandwidth = 4\n",
    "        \n",
    "    def features(self):\n",
    "        self.dim = [[],[]]\n",
    "        for i in range(self.img.shape[0]):\n",
    "            for j in range(self.img.shape[1]):\n",
    "                self.dim[0].append([i,j])\n",
    "                self.dim[1].append(self.imgp[i,j])\n",
    "        \n",
    "    def fit(self):\n",
    "        \n",
    "                \n",
    "    \n",
    "    \n",
    "    \n",
    "    "
   ]
  },
  {
   "cell_type": "code",
   "execution_count": null,
   "id": "44ea159f",
   "metadata": {},
   "outputs": [],
   "source": []
  },
  {
   "cell_type": "code",
   "execution_count": 105,
   "id": "15e0fa07",
   "metadata": {},
   "outputs": [
    {
     "name": "stdout",
     "output_type": "stream",
     "text": [
      "(36, 64, 3)\n"
     ]
    }
   ],
   "source": [
    "img = cv2.imread('2-image.jpg')\n",
    "\n",
    "img = cv2.resize(img, (64,36), interpolation=cv2.INTER_AREA)\n",
    "print(img.shape)"
   ]
  },
  {
   "cell_type": "code",
   "execution_count": 106,
   "id": "64c5f2b7",
   "metadata": {},
   "outputs": [
    {
     "data": {
      "text/plain": [
       "<matplotlib.image.AxesImage at 0x1b2200d9790>"
      ]
     },
     "execution_count": 106,
     "metadata": {},
     "output_type": "execute_result"
    },
    {
     "data": {
      "image/png": "[encoded data removed]",
      "text/plain": [
       "<Figure size 640x480 with 1 Axes>"
      ]
     },
     "metadata": {},
     "output_type": "display_data"
    }
   ],
   "source": [
    "plt.imshow(img,cmap=None)"
   ]
  },
  {
   "cell_type": "code",
   "execution_count": 107,
   "id": "0c087ed3",
   "metadata": {},
   "outputs": [
    {
     "name": "stdout",
     "output_type": "stream",
     "text": [
      "2304\n"
     ]
    },
    {
     "ename": "IndexError",
     "evalue": "index 1 is out of bounds for axis 0 with size 1",
     "output_type": "error",
     "traceback": [
      "\u001b[1;31m---------------------------------------------------------------------------\u001b[0m",
      "\u001b[1;31mIndexError\u001b[0m                                Traceback (most recent call last)",
      "Input \u001b[1;32mIn [107]\u001b[0m, in \u001b[0;36m<cell line: 2>\u001b[1;34m()\u001b[0m\n\u001b[0;32m      1\u001b[0m model \u001b[38;5;241m=\u001b[39m mean_shift(img)\n\u001b[1;32m----> 2\u001b[0m \u001b[43mmodel\u001b[49m\u001b[38;5;241;43m.\u001b[39;49m\u001b[43mfit\u001b[49m\u001b[43m(\u001b[49m\u001b[43m)\u001b[49m\n",
      "Input \u001b[1;32mIn [104]\u001b[0m, in \u001b[0;36mmean_shift.fit\u001b[1;34m(self)\u001b[0m\n\u001b[0;32m     62\u001b[0m     \u001b[38;5;28;01mcontinue\u001b[39;00m\n\u001b[0;32m     63\u001b[0m new_pt \u001b[38;5;241m=\u001b[39m points[i]\n\u001b[1;32m---> 64\u001b[0m new_pt, new_pt_start \u001b[38;5;241m=\u001b[39m points[i], \u001b[38;5;28;43mself\u001b[39;49m\u001b[38;5;241;43m.\u001b[39;49m\u001b[43mshift_point\u001b[49m\u001b[43m(\u001b[49m\u001b[43mnew_pt\u001b[49m\u001b[43m,\u001b[49m\u001b[43m \u001b[49m\u001b[43mpoints\u001b[49m\u001b[43m,\u001b[49m\u001b[38;5;28;43mself\u001b[39;49m\u001b[38;5;241;43m.\u001b[39;49m\u001b[43mbandwidth\u001b[49m\u001b[43m)\u001b[49m\n\u001b[0;32m     65\u001b[0m \u001b[38;5;28mprint\u001b[39m(new_pt, new_pt_start)\n\u001b[0;32m     67\u001b[0m dist \u001b[38;5;241m=\u001b[39m cal_dist(new_pt, new_p_start)\n",
      "Input \u001b[1;32mIn [104]\u001b[0m, in \u001b[0;36mmean_shift.shift_point\u001b[1;34m(self, new_pt, points, bandwidth)\u001b[0m\n\u001b[0;32m     91\u001b[0m weight \u001b[38;5;241m=\u001b[39m \u001b[38;5;28mself\u001b[39m\u001b[38;5;241m.\u001b[39mkernel(dist, \u001b[38;5;28mself\u001b[39m\u001b[38;5;241m.\u001b[39mbandwidth)\n\u001b[0;32m     92\u001b[0m shift_x \u001b[38;5;241m+\u001b[39m\u001b[38;5;241m=\u001b[39m p_temp[\u001b[38;5;241m0\u001b[39m] \u001b[38;5;241m*\u001b[39m weight\n\u001b[1;32m---> 93\u001b[0m shift_y \u001b[38;5;241m+\u001b[39m\u001b[38;5;241m=\u001b[39m \u001b[43mp_temp\u001b[49m\u001b[43m[\u001b[49m\u001b[38;5;241;43m1\u001b[39;49m\u001b[43m]\u001b[49m \u001b[38;5;241m*\u001b[39m weight\n\u001b[0;32m     94\u001b[0m \u001b[38;5;66;03m# denominator\u001b[39;00m\n\u001b[0;32m     95\u001b[0m scale_factor \u001b[38;5;241m+\u001b[39m\u001b[38;5;241m=\u001b[39m weight\n",
      "\u001b[1;31mIndexError\u001b[0m: index 1 is out of bounds for axis 0 with size 1"
     ]
    }
   ],
   "source": [
    "model = mean_shift(img)\n",
    "model.fit()"
   ]
  },
  {
   "cell_type": "code",
   "execution_count": null,
   "id": "8d17cb0e",
   "metadata": {},
   "outputs": [],
   "source": []
  },
  {
   "cell_type": "code",
   "execution_count": null,
   "id": "07b09621",
   "metadata": {},
   "outputs": [],
   "source": []
  }
 ],
 "metadata": {
  "kernelspec": {
   "display_name": "Python 3 (ipykernel)",
   "language": "python",
   "name": "python3"
  },
  "language_info": {
   "codemirror_mode": {
    "name": "ipython",
    "version": 3
   },
   "file_extension": ".py",
   "mimetype": "text/x-python",
   "name": "python",
   "nbconvert_exporter": "python",
   "pygments_lexer": "ipython3",
   "version": "3.8.13"
  }
 },
 "nbformat": 4,
 "nbformat_minor": 5
}
